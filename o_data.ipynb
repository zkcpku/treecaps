{
 "cells": [
  {
   "cell_type": "code",
   "execution_count": 1,
   "metadata": {},
   "outputs": [],
   "source": [
    "from data_loader import *"
   ]
  },
  {
   "cell_type": "code",
   "execution_count": 2,
   "metadata": {},
   "outputs": [],
   "source": [
    "train_path = \"OJ_data/train\""
   ]
  },
  {
   "cell_type": "code",
   "execution_count": 3,
   "metadata": {},
   "outputs": [
    {
     "name": "stdout",
     "output_type": "stream",
     "text": [
      "cached/OJ_data-10-train.pkl\n",
      "Number of all data : 3749\n"
     ]
    }
   ],
   "source": [
    "train_data_loader = MonoLanguageProgramData(train_path, 0, 10)"
   ]
  },
  {
   "cell_type": "code",
   "execution_count": 4,
   "metadata": {},
   "outputs": [],
   "source": [
    "train_trees, train_labels = train_data_loader.trees, train_data_loader.labels"
   ]
  },
  {
   "cell_type": "code",
   "execution_count": 5,
   "metadata": {},
   "outputs": [
    {
     "data": {
      "text/plain": [
       "['4', '8', '5', '10', '1', '7', '3', '9', '2', '6']"
      ]
     },
     "execution_count": 5,
     "metadata": {},
     "output_type": "execute_result"
    }
   ],
   "source": [
    "train_labels"
   ]
  },
  {
   "cell_type": "code",
   "execution_count": 37,
   "metadata": {},
   "outputs": [
    {
     "data": {
      "text/plain": [
       "3749"
      ]
     },
     "execution_count": 37,
     "metadata": {},
     "output_type": "execute_result"
    }
   ],
   "source": [
    "len(train_trees)"
   ]
  },
  {
   "cell_type": "code",
   "execution_count": 36,
   "metadata": {},
   "outputs": [
    {
     "data": {
      "text/plain": [
       "['4', '8', '5', '10', '1', '7', '3', '9', '2', '6']"
      ]
     },
     "execution_count": 36,
     "metadata": {},
     "output_type": "execute_result"
    }
   ],
   "source": [
    "train_labels"
   ]
  },
  {
   "cell_type": "code",
   "execution_count": 33,
   "metadata": {},
   "outputs": [
    {
     "data": {
      "text/plain": [
       "'1'"
      ]
     },
     "execution_count": 33,
     "metadata": {},
     "output_type": "execute_result"
    }
   ],
   "source": [
    "train_trees[0]['label']"
   ]
  },
  {
   "cell_type": "code",
   "execution_count": 19,
   "metadata": {},
   "outputs": [],
   "source": [
    "all_children_num = []"
   ]
  },
  {
   "cell_type": "code",
   "execution_count": 21,
   "metadata": {},
   "outputs": [],
   "source": [
    "def num_children(tree):\n",
    "    all_children_num.append(len(tree['children']))\n",
    "    for e in tree['children']:\n",
    "        num_children(e)\n",
    "num_children(train_trees[0]['tree'])"
   ]
  },
  {
   "cell_type": "code",
   "execution_count": 23,
   "metadata": {},
   "outputs": [
    {
     "data": {
      "text/plain": [
       "{0, 1, 2, 3, 4, 5, 8, 15}"
      ]
     },
     "execution_count": 23,
     "metadata": {},
     "output_type": "execute_result"
    }
   ],
   "source": [
    "set(all_children_num)"
   ]
  },
  {
   "cell_type": "code",
   "execution_count": 27,
   "metadata": {},
   "outputs": [
    {
     "data": {
      "text/plain": [
       "{'node': '0',\n",
       " 'children': [{'node': '2',\n",
       "   'children': [{'node': '1',\n",
       "     'children': [{'node': '57',\n",
       "       'children': [{'node': '54',\n",
       "         'children': [{'node': '265', 'children': []}]}]},\n",
       "      {'node': '54', 'children': [{'node': '265', 'children': []}]},\n",
       "      {'node': '3',\n",
       "       'children': [{'node': '4',\n",
       "         'children': [{'node': '48',\n",
       "           'children': [{'node': '265', 'children': []}]}]}]}]},\n",
       "    {'node': '1',\n",
       "     'children': [{'node': '57', 'children': []},\n",
       "      {'node': '54', 'children': [{'node': '265', 'children': []}]},\n",
       "      {'node': '3',\n",
       "       'children': [{'node': '4',\n",
       "         'children': [{'node': '48',\n",
       "           'children': [{'node': '265', 'children': []}]}]}]}]},\n",
       "    {'node': '265', 'children': []}]},\n",
       "  {'node': '12',\n",
       "   'children': [{'node': '57',\n",
       "     'children': [{'node': '54',\n",
       "       'children': [{'node': '265', 'children': []}]}]},\n",
       "    {'node': '54', 'children': [{'node': '265', 'children': []}]},\n",
       "    {'node': '100',\n",
       "     'children': [{'node': '101',\n",
       "       'children': [{'node': '1',\n",
       "         'children': [{'node': '57',\n",
       "           'children': [{'node': '54',\n",
       "             'children': [{'node': '265', 'children': []}]}]},\n",
       "          {'node': '54', 'children': [{'node': '265', 'children': []}]}]}]},\n",
       "      {'node': '265', 'children': []}]},\n",
       "    {'node': '60',\n",
       "     'children': [{'node': '279',\n",
       "       'children': [{'node': '8',\n",
       "         'children': [{'node': '3',\n",
       "           'children': [{'node': '1',\n",
       "             'children': [{'node': '57',\n",
       "               'children': [{'node': '54',\n",
       "                 'children': [{'node': '265', 'children': []}]}]},\n",
       "              {'node': '54', 'children': [{'node': '265', 'children': []}]},\n",
       "              {'node': '3',\n",
       "               'children': [{'node': '4',\n",
       "                 'children': [{'node': '54',\n",
       "                   'children': [{'node': '265', 'children': []}]}]}]}]},\n",
       "            {'node': '265', 'children': []}]},\n",
       "          {'node': '59',\n",
       "           'children': [{'node': '4',\n",
       "             'children': [{'node': '54',\n",
       "               'children': [{'node': '265', 'children': []}]},\n",
       "              {'node': '52', 'children': [{'node': '265', 'children': []}]},\n",
       "              {'node': '54', 'children': [{'node': '265', 'children': []}]},\n",
       "              {'node': '52', 'children': [{'node': '265', 'children': []}]},\n",
       "              {'node': '48', 'children': [{'node': '265', 'children': []}]}]},\n",
       "            {'node': '265', 'children': []}]},\n",
       "          {'node': '9',\n",
       "           'children': [{'node': '4',\n",
       "             'children': [{'node': '54',\n",
       "               'children': [{'node': '265', 'children': []}]},\n",
       "              {'node': '52',\n",
       "               'children': [{'node': '265', 'children': []}]}]}]},\n",
       "          {'node': '265', 'children': []}]},\n",
       "        {'node': '60',\n",
       "         'children': [{'node': '280',\n",
       "           'children': [{'node': '59',\n",
       "             'children': [{'node': '4',\n",
       "               'children': [{'node': '52',\n",
       "                 'children': [{'node': '265', 'children': []}]},\n",
       "                {'node': '54', 'children': [{'node': '265', 'children': []}]},\n",
       "                {'node': '52', 'children': [{'node': '265', 'children': []}]},\n",
       "                {'node': '54', 'children': [{'node': '265', 'children': []}]},\n",
       "                {'node': '52', 'children': [{'node': '265', 'children': []}]},\n",
       "                {'node': '48', 'children': [{'node': '265', 'children': []}]},\n",
       "                {'node': '52', 'children': [{'node': '265', 'children': []}]},\n",
       "                {'node': '52', 'children': [{'node': '265', 'children': []}]},\n",
       "                {'node': '52', 'children': [{'node': '265', 'children': []}]},\n",
       "                {'node': '54', 'children': [{'node': '265', 'children': []}]},\n",
       "                {'node': '52', 'children': [{'node': '265', 'children': []}]},\n",
       "                {'node': '54', 'children': [{'node': '265', 'children': []}]},\n",
       "                {'node': '52', 'children': [{'node': '265', 'children': []}]},\n",
       "                {'node': '54', 'children': [{'node': '265', 'children': []}]},\n",
       "                {'node': '52',\n",
       "                 'children': [{'node': '265', 'children': []}]}]},\n",
       "              {'node': '265', 'children': []}]},\n",
       "            {'node': '67',\n",
       "             'children': [{'node': '60',\n",
       "               'children': [{'node': '5',\n",
       "                 'children': [{'node': '4',\n",
       "                   'children': [{'node': '54',\n",
       "                     'children': [{'node': '265', 'children': []}]},\n",
       "                    {'node': '52',\n",
       "                     'children': [{'node': '265', 'children': []}]}]},\n",
       "                  {'node': '265', 'children': []}]},\n",
       "                {'node': '5',\n",
       "                 'children': [{'node': '4',\n",
       "                   'children': [{'node': '54',\n",
       "                     'children': [{'node': '265', 'children': []}]},\n",
       "                    {'node': '52',\n",
       "                     'children': [{'node': '265', 'children': []}]},\n",
       "                    {'node': '54',\n",
       "                     'children': [{'node': '265', 'children': []}]}]},\n",
       "                  {'node': '265', 'children': []}]},\n",
       "                {'node': '5',\n",
       "                 'children': [{'node': '4',\n",
       "                   'children': [{'node': '7',\n",
       "                     'children': [{'node': '54',\n",
       "                       'children': [{'node': '265', 'children': []}]},\n",
       "                      {'node': '104',\n",
       "                       'children': [{'node': '105',\n",
       "                         'children': [{'node': '4',\n",
       "                           'children': [{'node': '54',\n",
       "                             'children': [{'node': '265', 'children': []}]},\n",
       "                            {'node': '52',\n",
       "                             'children': [{'node': '265', 'children': []}]},\n",
       "                            {'node': '54',\n",
       "                             'children': [{'node': '265',\n",
       "                               'children': []}]}]}]},\n",
       "                        {'node': '265', 'children': []}]}]}]},\n",
       "                  {'node': '265', 'children': []}]},\n",
       "                {'node': '265', 'children': []}]}]},\n",
       "            {'node': '69',\n",
       "             'children': [{'node': '280',\n",
       "               'children': [{'node': '59',\n",
       "                 'children': [{'node': '4',\n",
       "                   'children': [{'node': '52',\n",
       "                     'children': [{'node': '265', 'children': []}]},\n",
       "                    {'node': '54',\n",
       "                     'children': [{'node': '265', 'children': []}]},\n",
       "                    {'node': '52',\n",
       "                     'children': [{'node': '265', 'children': []}]},\n",
       "                    {'node': '54',\n",
       "                     'children': [{'node': '265', 'children': []}]},\n",
       "                    {'node': '52',\n",
       "                     'children': [{'node': '265', 'children': []}]},\n",
       "                    {'node': '48',\n",
       "                     'children': [{'node': '265', 'children': []}]},\n",
       "                    {'node': '52',\n",
       "                     'children': [{'node': '265', 'children': []}]},\n",
       "                    {'node': '52',\n",
       "                     'children': [{'node': '265', 'children': []}]},\n",
       "                    {'node': '52',\n",
       "                     'children': [{'node': '265', 'children': []}]},\n",
       "                    {'node': '54',\n",
       "                     'children': [{'node': '265', 'children': []}]},\n",
       "                    {'node': '52',\n",
       "                     'children': [{'node': '265', 'children': []}]},\n",
       "                    {'node': '54',\n",
       "                     'children': [{'node': '265', 'children': []}]},\n",
       "                    {'node': '52',\n",
       "                     'children': [{'node': '265', 'children': []}]},\n",
       "                    {'node': '54',\n",
       "                     'children': [{'node': '265', 'children': []}]},\n",
       "                    {'node': '52',\n",
       "                     'children': [{'node': '265', 'children': []}]}]},\n",
       "                  {'node': '265', 'children': []}]},\n",
       "                {'node': '67',\n",
       "                 'children': [{'node': '60',\n",
       "                   'children': [{'node': '5',\n",
       "                     'children': [{'node': '4',\n",
       "                       'children': [{'node': '54',\n",
       "                         'children': [{'node': '265', 'children': []}]},\n",
       "                        {'node': '52',\n",
       "                         'children': [{'node': '265', 'children': []}]}]},\n",
       "                      {'node': '265', 'children': []}]},\n",
       "                    {'node': '265', 'children': []}]}]}]}]}]},\n",
       "          {'node': '265', 'children': []}]}]},\n",
       "      {'node': '298',\n",
       "       'children': [{'node': '4',\n",
       "         'children': [{'node': '54',\n",
       "           'children': [{'node': '265', 'children': []}]}]},\n",
       "        {'node': '265', 'children': []}]},\n",
       "      {'node': '265', 'children': []}]}]},\n",
       "  {'node': '12',\n",
       "   'children': [{'node': '57',\n",
       "     'children': [{'node': '54',\n",
       "       'children': [{'node': '265', 'children': []}]}]},\n",
       "    {'node': '54', 'children': [{'node': '265', 'children': []}]},\n",
       "    {'node': '100', 'children': [{'node': '265', 'children': []}]},\n",
       "    {'node': '60',\n",
       "     'children': [{'node': '2',\n",
       "       'children': [{'node': '1',\n",
       "         'children': [{'node': '57',\n",
       "           'children': [{'node': '54',\n",
       "             'children': [{'node': '265', 'children': []}]}]},\n",
       "          {'node': '54', 'children': [{'node': '265', 'children': []}]}]},\n",
       "        {'node': '265', 'children': []}]},\n",
       "      {'node': '5',\n",
       "       'children': [{'node': '4',\n",
       "         'children': [{'node': '7',\n",
       "           'children': [{'node': '54',\n",
       "             'children': [{'node': '265', 'children': []}]},\n",
       "            {'node': '104',\n",
       "             'children': [{'node': '105',\n",
       "               'children': [{'node': '4',\n",
       "                 'children': [{'node': '48',\n",
       "                   'children': [{'node': '265', 'children': []}]}]}]},\n",
       "              {'node': '105',\n",
       "               'children': [{'node': '4',\n",
       "                 'children': [{'node': '52',\n",
       "                   'children': [{'node': '265', 'children': []}]},\n",
       "                  {'node': '54',\n",
       "                   'children': [{'node': '265', 'children': []}]}]}]},\n",
       "              {'node': '265', 'children': []}]}]}]},\n",
       "        {'node': '265', 'children': []}]},\n",
       "      {'node': '2',\n",
       "       'children': [{'node': '1',\n",
       "         'children': [{'node': '57',\n",
       "           'children': [{'node': '54',\n",
       "             'children': [{'node': '265', 'children': []}]}]},\n",
       "          {'node': '54',\n",
       "           'children': [{'node': '54',\n",
       "             'children': [{'node': '265', 'children': []}]},\n",
       "            {'node': '62',\n",
       "             'children': [{'node': '4',\n",
       "               'children': [{'node': '48',\n",
       "                 'children': [{'node': '265', 'children': []}]}]},\n",
       "              {'node': '265', 'children': []}]}]}]},\n",
       "        {'node': '265', 'children': []}]},\n",
       "      {'node': '279',\n",
       "       'children': [{'node': '8',\n",
       "         'children': [{'node': '3',\n",
       "           'children': [{'node': '1',\n",
       "             'children': [{'node': '57',\n",
       "               'children': [{'node': '54',\n",
       "                 'children': [{'node': '265', 'children': []}]}]},\n",
       "              {'node': '54', 'children': [{'node': '265', 'children': []}]},\n",
       "              {'node': '3',\n",
       "               'children': [{'node': '4',\n",
       "                 'children': [{'node': '48',\n",
       "                   'children': [{'node': '265', 'children': []}]}]}]}]},\n",
       "            {'node': '265', 'children': []}]},\n",
       "          {'node': '59',\n",
       "           'children': [{'node': '4',\n",
       "             'children': [{'node': '54',\n",
       "               'children': [{'node': '265', 'children': []}]},\n",
       "              {'node': '52', 'children': [{'node': '265', 'children': []}]},\n",
       "              {'node': '54', 'children': [{'node': '265', 'children': []}]},\n",
       "              {'node': '52', 'children': [{'node': '265', 'children': []}]},\n",
       "              {'node': '48', 'children': [{'node': '265', 'children': []}]}]},\n",
       "            {'node': '265', 'children': []}]},\n",
       "          {'node': '9',\n",
       "           'children': [{'node': '4',\n",
       "             'children': [{'node': '54',\n",
       "               'children': [{'node': '265', 'children': []}]},\n",
       "              {'node': '52',\n",
       "               'children': [{'node': '265', 'children': []}]}]}]},\n",
       "          {'node': '265', 'children': []}]},\n",
       "        {'node': '60',\n",
       "         'children': [{'node': '5',\n",
       "           'children': [{'node': '4',\n",
       "             'children': [{'node': '7',\n",
       "               'children': [{'node': '54',\n",
       "                 'children': [{'node': '265', 'children': []}]},\n",
       "                {'node': '104',\n",
       "                 'children': [{'node': '105',\n",
       "                   'children': [{'node': '4',\n",
       "                     'children': [{'node': '48',\n",
       "                       'children': [{'node': '265', 'children': []}]}]}]},\n",
       "                  {'node': '105',\n",
       "                   'children': [{'node': '4',\n",
       "                     'children': [{'node': '52',\n",
       "                       'children': [{'node': '265', 'children': []}]},\n",
       "                      {'node': '54',\n",
       "                       'children': [{'node': '54',\n",
       "                         'children': [{'node': '265', 'children': []}]},\n",
       "                        {'node': '62',\n",
       "                         'children': [{'node': '4',\n",
       "                           'children': [{'node': '54',\n",
       "                             'children': [{'node': '265', 'children': []}]}]},\n",
       "                          {'node': '265', 'children': []}]}]}]}]},\n",
       "                  {'node': '265', 'children': []}]}]}]},\n",
       "            {'node': '265', 'children': []}]},\n",
       "          {'node': '265', 'children': []}]}]},\n",
       "      {'node': '279',\n",
       "       'children': [{'node': '8',\n",
       "         'children': [{'node': '3',\n",
       "           'children': [{'node': '1',\n",
       "             'children': [{'node': '57',\n",
       "               'children': [{'node': '54',\n",
       "                 'children': [{'node': '265', 'children': []}]}]},\n",
       "              {'node': '54', 'children': [{'node': '265', 'children': []}]},\n",
       "              {'node': '3',\n",
       "               'children': [{'node': '4',\n",
       "                 'children': [{'node': '48',\n",
       "                   'children': [{'node': '265', 'children': []}]}]}]}]},\n",
       "            {'node': '265', 'children': []}]},\n",
       "          {'node': '59',\n",
       "           'children': [{'node': '4',\n",
       "             'children': [{'node': '54',\n",
       "               'children': [{'node': '265', 'children': []}]},\n",
       "              {'node': '52', 'children': [{'node': '265', 'children': []}]},\n",
       "              {'node': '54', 'children': [{'node': '265', 'children': []}]},\n",
       "              {'node': '52', 'children': [{'node': '265', 'children': []}]},\n",
       "              {'node': '48', 'children': [{'node': '265', 'children': []}]}]},\n",
       "            {'node': '265', 'children': []}]},\n",
       "          {'node': '9',\n",
       "           'children': [{'node': '4',\n",
       "             'children': [{'node': '54',\n",
       "               'children': [{'node': '265', 'children': []}]},\n",
       "              {'node': '52',\n",
       "               'children': [{'node': '265', 'children': []}]}]}]},\n",
       "          {'node': '265', 'children': []}]},\n",
       "        {'node': '60',\n",
       "         'children': [{'node': '5',\n",
       "           'children': [{'node': '4',\n",
       "             'children': [{'node': '7',\n",
       "               'children': [{'node': '54',\n",
       "                 'children': [{'node': '265', 'children': []}]},\n",
       "                {'node': '104',\n",
       "                 'children': [{'node': '105',\n",
       "                   'children': [{'node': '4',\n",
       "                     'children': [{'node': '48',\n",
       "                       'children': [{'node': '265', 'children': []}]}]}]},\n",
       "                  {'node': '105',\n",
       "                   'children': [{'node': '4',\n",
       "                     'children': [{'node': '7',\n",
       "                       'children': [{'node': '54',\n",
       "                         'children': [{'node': '265', 'children': []}]},\n",
       "                        {'node': '104',\n",
       "                         'children': [{'node': '105',\n",
       "                           'children': [{'node': '4',\n",
       "                             'children': [{'node': '54',\n",
       "                               'children': [{'node': '54',\n",
       "                                 'children': [{'node': '265',\n",
       "                                   'children': []}]},\n",
       "                                {'node': '62',\n",
       "                                 'children': [{'node': '4',\n",
       "                                   'children': [{'node': '54',\n",
       "                                     'children': [{'node': '265',\n",
       "                                       'children': []}]}]},\n",
       "                                  {'node': '265', 'children': []}]}]}]}]},\n",
       "                          {'node': '265', 'children': []}]}]},\n",
       "                      {'node': '52',\n",
       "                       'children': [{'node': '265', 'children': []}]},\n",
       "                      {'node': '48',\n",
       "                       'children': [{'node': '265', 'children': []}]}]}]},\n",
       "                  {'node': '265', 'children': []}]}]}]},\n",
       "            {'node': '265', 'children': []}]},\n",
       "          {'node': '5',\n",
       "           'children': [{'node': '4',\n",
       "             'children': [{'node': '54',\n",
       "               'children': [{'node': '265', 'children': []}]},\n",
       "              {'node': '52', 'children': [{'node': '265', 'children': []}]},\n",
       "              {'node': '48', 'children': [{'node': '265', 'children': []}]}]},\n",
       "            {'node': '52', 'children': [{'node': '265', 'children': []}]},\n",
       "            {'node': '4',\n",
       "             'children': [{'node': '54',\n",
       "               'children': [{'node': '265', 'children': []}]},\n",
       "              {'node': '52', 'children': [{'node': '265', 'children': []}]},\n",
       "              {'node': '48', 'children': [{'node': '265', 'children': []}]}]},\n",
       "            {'node': '265', 'children': []}]},\n",
       "          {'node': '265', 'children': []}]}]},\n",
       "      {'node': '2',\n",
       "       'children': [{'node': '1',\n",
       "         'children': [{'node': '57',\n",
       "           'children': [{'node': '54',\n",
       "             'children': [{'node': '265', 'children': []}]}]},\n",
       "          {'node': '54', 'children': [{'node': '265', 'children': []}]}]},\n",
       "        {'node': '265', 'children': []}]},\n",
       "      {'node': '5',\n",
       "       'children': [{'node': '4',\n",
       "         'children': [{'node': '7',\n",
       "           'children': [{'node': '54',\n",
       "             'children': [{'node': '265', 'children': []}]},\n",
       "            {'node': '104',\n",
       "             'children': [{'node': '105',\n",
       "               'children': [{'node': '4',\n",
       "                 'children': [{'node': '48',\n",
       "                   'children': [{'node': '265', 'children': []}]}]}]},\n",
       "              {'node': '105',\n",
       "               'children': [{'node': '4',\n",
       "                 'children': [{'node': '52',\n",
       "                   'children': [{'node': '265', 'children': []}]},\n",
       "                  {'node': '54',\n",
       "                   'children': [{'node': '265', 'children': []}]}]}]},\n",
       "              {'node': '265', 'children': []}]}]}]},\n",
       "        {'node': '265', 'children': []}]},\n",
       "      {'node': '265', 'children': []}]}]}]}"
      ]
     },
     "execution_count": 27,
     "metadata": {},
     "output_type": "execute_result"
    }
   ],
   "source": [
    "train_trees[0]['tree']"
   ]
  },
  {
   "cell_type": "code",
   "execution_count": null,
   "metadata": {},
   "outputs": [],
   "source": []
  },
  {
   "cell_type": "code",
   "execution_count": null,
   "metadata": {},
   "outputs": [],
   "source": []
  },
  {
   "cell_type": "code",
   "execution_count": 10,
   "metadata": {},
   "outputs": [],
   "source": [
    "node_type_lookup_path = 'node_type/node_type_lookup.pkl'"
   ]
  },
  {
   "cell_type": "code",
   "execution_count": 11,
   "metadata": {},
   "outputs": [],
   "source": [
    "with open(node_type_lookup_path, 'rb') as fh:\n",
    "    node_type_lookup = pickle.load(fh,encoding='latin1')"
   ]
  },
  {
   "cell_type": "code",
   "execution_count": 12,
   "metadata": {},
   "outputs": [
    {
     "data": {
      "text/plain": [
       "450"
      ]
     },
     "execution_count": 12,
     "metadata": {},
     "output_type": "execute_result"
    }
   ],
   "source": [
    "len(node_type_lookup)"
   ]
  },
  {
   "cell_type": "code",
   "execution_count": 16,
   "metadata": {},
   "outputs": [
    {
     "data": {
      "text/plain": [
       "'DECL'"
      ]
     },
     "execution_count": 16,
     "metadata": {},
     "output_type": "execute_result"
    }
   ],
   "source": [
    "node_type_lookup['1']"
   ]
  },
  {
   "cell_type": "code",
   "execution_count": null,
   "metadata": {},
   "outputs": [],
   "source": []
  },
  {
   "cell_type": "code",
   "execution_count": null,
   "metadata": {},
   "outputs": [],
   "source": []
  },
  {
   "cell_type": "code",
   "execution_count": null,
   "metadata": {},
   "outputs": [],
   "source": []
  },
  {
   "cell_type": "code",
   "execution_count": 19,
   "metadata": {},
   "outputs": [
    {
     "name": "stderr",
     "output_type": "stream",
     "text": [
      "100%|██████████| 10/10 [00:20<00:00,  2.03s/it]\n"
     ]
    }
   ],
   "source": [
    "trees, labels = load_program_data(train_path,10)"
   ]
  },
  {
   "cell_type": "code",
   "execution_count": 22,
   "metadata": {},
   "outputs": [],
   "source": [
    "ast_representation = build_tree('/home/zhangkechi/workspace/treecaps-master/OJ_data/train/1/13.c.pb.pkl')"
   ]
  },
  {
   "cell_type": "code",
   "execution_count": 26,
   "metadata": {},
   "outputs": [
    {
     "data": {
      "text/plain": [
       "fast_pb2.Data"
      ]
     },
     "execution_count": 26,
     "metadata": {},
     "output_type": "execute_result"
    }
   ],
   "source": [
    "type(ast_representation)"
   ]
  },
  {
   "cell_type": "code",
   "execution_count": null,
   "metadata": {},
   "outputs": [],
   "source": [
    "ast "
   ]
  }
 ],
 "metadata": {
  "kernelspec": {
   "display_name": "Python 3",
   "language": "python",
   "name": "python3"
  },
  "language_info": {
   "codemirror_mode": {
    "name": "ipython",
    "version": 3
   },
   "file_extension": ".py",
   "mimetype": "text/x-python",
   "name": "python",
   "nbconvert_exporter": "python",
   "pygments_lexer": "ipython3",
   "version": "3.6.10"
  }
 },
 "nbformat": 4,
 "nbformat_minor": 4
}
